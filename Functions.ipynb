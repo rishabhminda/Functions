{
  "cells": [
    {
      "cell_type": "markdown",
      "source": [
        "#Functions\n",
        "#1.What is the main difference between a function and a method in Python?\n",
        "-The main difference between a function and a method is function is independant and methods are associated to a class or object, so a method associated with list like .append for List will not work with Sets as .append is associated with List and not with Sets however a function can be called from anywhere.\n",
        "#2.Explain the concept of function arguments and parameters in Python.\n",
        "-Arguments are variables that passes a value to a function when they are called and parameters are variables defined inside a function that accepts the values that are passed through the arguments when that particular function is called. def ad(a,b): here a,b are the paramenters and when this is called by ad(x,y) here x,y is the arguments\n",
        "#3. What are the different ways to define and call a function in python?\n",
        "-A function can be defined with default arguments, variable arguments or positional arguments and can be called by a function accordingly. e.g def (a,b=0):,def(a*,b*):,def(a,b):\n",
        "#4.What is the purpose of return statement in a Python function?\n",
        "-The return statement in the function returns the output of the function. e.g def add(a,b)\n",
        "z=a+b\n",
        "return z\n",
        "#5.What are iterators in Python and how do they differ from itertables?\n",
        "-Iterators are objects which takes elements one by one to do iteration. Iterables can be any object like data structure or sequencial string which is capable of returning its elements one by one to be iterated.\n",
        "#6.Explain the concept of generators in Python and how they are defined.\n",
        "-It allows to declare a function that behaves like an iterator. Yield statement is used to create a generator object\n",
        "#7.What are the advantages of using generators over regular functions\n",
        "- Regular functions returns everything in one go however Generators creates an iterable object which is memory efficient.\n",
        "#8.What is a lambda function in Python and when is it typically used?\n",
        "-Lambda functions are anonymous and short hand functions. They are typically used for simple scripting and when you want to use the function once\n",
        "#9.Explain the purpose and usage of the 'map()' function in Python.\n",
        "-As the name suggest, map() function is used to execute each item in an iterable object against a function. It is used if you want the same formulation to be applied to each of the elements of an iterable.\n",
        "#10.What is the difference between map(),reduce() and filter() function in Python\n",
        "-map() and filter() are inbuilt functions however reduce() needs to be imported from functools.map() function is to execute a particular expression for each of the elements of an iterable to create the final result, filter() function eliminates the elements of an iterable from the final result if they do not satisfy an expression and reduce() is a folding or reduction function which keeps applying an expression to elements of a iterable till it becomes a single element.\n",
        "#11. Using pen & paper write the internal mechanism for sum operation using reduce function on this given list:[47,11,42,13];\n",
        "-Answer is in the attached doc link in the work file\n",
        "\n",
        "\n",
        "\n"
      ],
      "metadata": {
        "id": "ibqklQP_Uktz"
      }
    },
    {
      "cell_type": "code",
      "source": [
        "#1. Write a Python function that takes a list of numbers as input and returns the sum of all even numbers in the list.\n",
        "sum_even = 0\n",
        "user_input = [int(x) for x in input(\"Please provide the list of numbers separated by space\").split()]\n",
        "for y in user_input:\n",
        "  if y % 2 == 0:\n",
        "    sum_even = sum_even + y\n",
        "print(sum_even)"
      ],
      "metadata": {
        "id": "d3po4JYXVUq9",
        "outputId": "41e9da18-e227-4f3f-c5cb-94f347aaab94",
        "colab": {
          "base_uri": "https://localhost:8080/"
        }
      },
      "execution_count": 1,
      "outputs": [
        {
          "output_type": "stream",
          "name": "stdout",
          "text": [
            "Please provide the list of numbers separated by space4 5 8 13 15 20\n",
            "32\n"
          ]
        }
      ]
    },
    {
      "cell_type": "code",
      "source": [
        "#2.Create a Python function that accepts a string and returns the reverse of that string.\n",
        "rev_str = input(\"Please provide the string to be reversed\")[::-1]\n",
        "print(rev_str)"
      ],
      "metadata": {
        "id": "i3eVelCBWO3s",
        "outputId": "2b937976-6ab8-4009-cd15-8d0fe4f2cf83",
        "colab": {
          "base_uri": "https://localhost:8080/"
        }
      },
      "execution_count": 2,
      "outputs": [
        {
          "output_type": "stream",
          "name": "stdout",
          "text": [
            "Please provide the string to be reversedRishabh\n",
            "hbahsiR\n"
          ]
        }
      ]
    },
    {
      "cell_type": "code",
      "source": [
        "#3.Implement a Python function that takes a list of intergers and returns a new list containing the squares of each number\n",
        "user_list = [int(i)**2 for i in input(\"Please provide the list of numbers to be squared with spaces\").split()]\n",
        "print(user_list)"
      ],
      "metadata": {
        "id": "vwCxW_PKZbA0",
        "outputId": "31e271d4-aaf2-4e31-81b5-910871f4f436",
        "colab": {
          "base_uri": "https://localhost:8080/"
        }
      },
      "execution_count": 3,
      "outputs": [
        {
          "output_type": "stream",
          "name": "stdout",
          "text": [
            "Please provide the list of numbers to be squared with spaces1 3 6 4\n",
            "[1, 9, 36, 16]\n"
          ]
        }
      ]
    },
    {
      "cell_type": "code",
      "source": [
        "#4.Write a Python function that checks if a given number is prime or not from 1 to 200\n",
        "prime=[]\n",
        "for num in range(1,200):\n",
        "  count = 0\n",
        "  for num1 in range(1,num+1):\n",
        "    if num%num1 == 0:\n",
        "      count += 1\n",
        "      if count == 3:\n",
        "        break\n",
        "      elif count == 2 and num1 == num:\n",
        "        prime.append(num)\n",
        "print(prime)\n"
      ],
      "metadata": {
        "id": "3878uj0IaAzN",
        "outputId": "7eae3d2a-35cf-464a-be54-74f2f470e24e",
        "colab": {
          "base_uri": "https://localhost:8080/"
        }
      },
      "execution_count": 5,
      "outputs": [
        {
          "output_type": "stream",
          "name": "stdout",
          "text": [
            "[2, 3, 5, 7, 11, 13, 17, 19, 23, 29, 31, 37, 41, 43, 47, 53, 59, 61, 67, 71, 73, 79, 83, 89, 97, 101, 103, 107, 109, 113, 127, 131, 137, 139, 149, 151, 157, 163, 167, 173, 179, 181, 191, 193, 197, 199]\n"
          ]
        }
      ]
    },
    {
      "cell_type": "code",
      "source": [
        "#5. Create an iterator class in Python that generates the fibonacci sequence up to a specified number of terms.\n",
        "def fib(x):\n",
        "  z = []\n",
        "  for i in range(x+1):\n",
        "     if (i<2):\n",
        "        z.append(i)\n",
        "     else:\n",
        "        z.append(z[i-2] + z[i-1])\n",
        "  return(z)\n",
        "\n",
        "a=iter(fib(5))\n",
        "next(a)\n",
        "next(a)\n",
        "next(a)\n",
        "next(a)"
      ],
      "metadata": {
        "id": "Lw9c_1Z9bKPb",
        "outputId": "a4eca67e-2f84-4305-91e5-958eb97f9ea3",
        "colab": {
          "base_uri": "https://localhost:8080/"
        }
      },
      "execution_count": 6,
      "outputs": [
        {
          "output_type": "execute_result",
          "data": {
            "text/plain": [
              "2"
            ]
          },
          "metadata": {},
          "execution_count": 6
        }
      ]
    },
    {
      "cell_type": "code",
      "source": [
        "#6. Write a generator function in Python that yields the powers of 2 up to a given exponent\n",
        "def power(x):\n",
        "   for i in range(x):\n",
        "    yield 2**i\n",
        "\n",
        "a = power(4)\n",
        "next(a)\n",
        "next(a)\n",
        "next(a)"
      ],
      "metadata": {
        "id": "B0ty-27Tbh3i",
        "outputId": "ab87db7c-39da-4642-aa70-b5b0bf69e2c9",
        "colab": {
          "base_uri": "https://localhost:8080/"
        }
      },
      "execution_count": 7,
      "outputs": [
        {
          "output_type": "execute_result",
          "data": {
            "text/plain": [
              "4"
            ]
          },
          "metadata": {},
          "execution_count": 7
        }
      ]
    },
    {
      "cell_type": "code",
      "source": [
        "#7. Implement a generator function that reads a file line by line and yields each line as a string\n",
        "# This is out of syllabus as do not know how to extract details or read from a file"
      ],
      "metadata": {
        "id": "g9Akesudbw_9"
      },
      "execution_count": null,
      "outputs": []
    },
    {
      "cell_type": "code",
      "source": [
        "#8. Use a lambda function in Python to sort a list of tuples based on the second element of each tuple\n",
        "user_list = [(2,4,6),(8,8,10,12),(10,1)]\n",
        "print(sorted(user_list,key=lambda x:x[1]))\n"
      ],
      "metadata": {
        "id": "LcGjzf5GcGj2",
        "outputId": "1ef5c9e6-b117-4652-87a1-6bd7f23da116",
        "colab": {
          "base_uri": "https://localhost:8080/"
        }
      },
      "execution_count": 8,
      "outputs": [
        {
          "output_type": "stream",
          "name": "stdout",
          "text": [
            "[(10, 1), (2, 4, 6), (8, 8, 10, 12)]\n"
          ]
        }
      ]
    },
    {
      "cell_type": "code",
      "source": [
        "#9.Write a Python program that uses map() to convert a list of temperatures from Celsius to Fahrenheit.\n",
        "def conv(x):\n",
        "  z=(x*1.8)+32\n",
        "  return z\n",
        "\n",
        "cel=[37,39,40]\n",
        "list(map(conv,cel))"
      ],
      "metadata": {
        "id": "ertAYXZScVpD",
        "outputId": "d05215ad-71e5-4bf3-e5ea-0b0384612904",
        "colab": {
          "base_uri": "https://localhost:8080/"
        }
      },
      "execution_count": 9,
      "outputs": [
        {
          "output_type": "execute_result",
          "data": {
            "text/plain": [
              "[98.60000000000001, 102.2, 104.0]"
            ]
          },
          "metadata": {},
          "execution_count": 9
        }
      ]
    },
    {
      "cell_type": "code",
      "source": [
        "#10. Create a Python program that uses filter() to remove all the vowels from a given string\n",
        "user_input = input(\"Please provide the string\")\n",
        "list(filter(lambda x: x not in (\"a\",\"e\",\"i\",\"o\",\"u\"),user_input))"
      ],
      "metadata": {
        "id": "3iKdluKecmfS",
        "outputId": "c39a9df7-1930-45f4-cb3b-c0e6f8869484",
        "colab": {
          "base_uri": "https://localhost:8080/"
        }
      },
      "execution_count": 10,
      "outputs": [
        {
          "name": "stdout",
          "output_type": "stream",
          "text": [
            "Please provide the stringRishabh\n"
          ]
        },
        {
          "output_type": "execute_result",
          "data": {
            "text/plain": [
              "['R', 's', 'h', 'b', 'h']"
            ]
          },
          "metadata": {},
          "execution_count": 10
        }
      ]
    },
    {
      "cell_type": "code",
      "source": [
        "#Imagine an accounting routine used in a book shop. It works on a list with sublists, which look like this:\n",
        "\n",
        "#Order Number     Book Title and Author         Quantity      Price per item\n",
        "#34587            Learning Python, Mark Lutz        4             40.95\n",
        "#98762            Programming Python, Mark Lutz     5             56.80\n",
        "#77226            Head First Python, Paul Barry     3             32.95\n",
        "#88112            Einfuhrung in Python3,Bernd Klein 3             24.99\n",
        "\n",
        "Order_number=[34587,98762,77226,88112]\n",
        "Book_Title_Author=[\"Learning Python, Mark Lutz\",\"Programming Python, Mark Lutz\",\"Head First Python, Paul Barry\",\"Einfuhrung in Python3, Bernd Klein\"]\n",
        "Quantity=[4,5,3,3]\n",
        "Price_per_Item=[40.95,56.80,32.95,24.99]\n",
        "new_tuple=tuple(Order_number)\n",
        "new_List=[new_tuple,tuple(map(lambda x,y: (x*y)+10 if x*y<100 else x*y, Quantity,Price_per_Item))]\n",
        "print(new_List)\n"
      ],
      "metadata": {
        "id": "b2en_xA4c3Le",
        "outputId": "bd88ae2e-0a5e-4104-e279-c99c0b5dc1d3",
        "colab": {
          "base_uri": "https://localhost:8080/"
        }
      },
      "execution_count": 11,
      "outputs": [
        {
          "output_type": "stream",
          "name": "stdout",
          "text": [
            "[(34587, 98762, 77226, 88112), (163.8, 284.0, 108.85000000000001, 84.97)]\n"
          ]
        }
      ]
    }
  ],
  "metadata": {
    "colab": {
      "name": "Welcome to Colaboratory",
      "toc_visible": true,
      "provenance": []
    },
    "kernelspec": {
      "display_name": "Python 3",
      "name": "python3"
    }
  },
  "nbformat": 4,
  "nbformat_minor": 0
}